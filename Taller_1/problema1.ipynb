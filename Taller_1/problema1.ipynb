{
 "cells": [
  {
   "cell_type": "markdown",
   "metadata": {},
   "source": [
    "## Taller 1 - Notebook1\n",
    "\n",
    "- Marco Marcillo\n",
    "\n",
    "- Mateo Molina"
   ]
  },
  {
   "cell_type": "code",
   "execution_count": 42,
   "metadata": {},
   "outputs": [
    {
     "name": "stdout",
     "output_type": "stream",
     "text": [
      "La suma de los números es: 1.96875\n",
      "El error es: 1.5625%\n"
     ]
    }
   ],
   "source": [
    "def suma_numeros(lista):\n",
    "    SUM = 0\n",
    "    for x in lista:\n",
    "        SUM = SUM + x\n",
    "    \n",
    "    return SUM\n",
    "\n",
    "numeros = [1,1/2,1/4,1/8,1/16,1/32]\n",
    "resultado = suma_numeros(numeros)\n",
    "print(f\"La suma de los números es: {resultado}\")\n",
    "\n",
    "x = abs((resultado-2)/2) * 100\n",
    "print(f\"El error es: {x}\" + \"%\")  "
   ]
  }
 ],
 "metadata": {
  "kernelspec": {
   "display_name": "base",
   "language": "python",
   "name": "python3"
  },
  "language_info": {
   "codemirror_mode": {
    "name": "ipython",
    "version": 3
   },
   "file_extension": ".py",
   "mimetype": "text/x-python",
   "name": "python",
   "nbconvert_exporter": "python",
   "pygments_lexer": "ipython3",
   "version": "3.12.7"
  }
 },
 "nbformat": 4,
 "nbformat_minor": 2
}
