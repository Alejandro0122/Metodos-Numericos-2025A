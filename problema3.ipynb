{
 "cells": [
  {
   "cell_type": "markdown",
   "id": "a0888dc5",
   "metadata": {},
   "source": [
    "## Taller 1 - Notebook3\n",
    "\n",
    "- Marco Marcillo\n",
    "\n",
    "- Mateo Molina"
   ]
  },
  {
   "cell_type": "code",
   "execution_count": null,
   "id": "6a8b86bf",
   "metadata": {},
   "outputs": [],
   "source": []
  }
 ],
 "metadata": {
  "language_info": {
   "name": "python"
  }
 },
 "nbformat": 4,
 "nbformat_minor": 5
}
