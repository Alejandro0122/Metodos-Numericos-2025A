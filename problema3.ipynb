{
 "cells": [
  {
   "cell_type": "markdown",
   "id": "a0888dc5",
   "metadata": {},
   "source": [
    "## Taller 1 - Notebook3\n",
    "\n",
    "- Marco Marcillo\n",
    "\n",
    "- Mateo Molina"
   ]
  }
 ],
 "metadata": {
  "language_info": {
   "name": "python"
  }
 },
 "nbformat": 4,
 "nbformat_minor": 5
}
