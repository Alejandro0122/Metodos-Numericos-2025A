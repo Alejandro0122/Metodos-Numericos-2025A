{
 "cells": [
  {
   "cell_type": "markdown",
   "metadata": {},
   "source": [
    "## Taller 1 - Notebook2\n",
    "Marco Marcillo\n",
    "Mateo Molina"
   ]
  },
  {
   "cell_type": "code",
   "execution_count": null,
   "metadata": {},
   "outputs": [
    {
     "name": "stdout",
     "output_type": "stream",
     "text": [
      "Lista original: [5, 4, 3, 2, 1]\n",
      "Lista ordenada: [1, 2, 3, 4, 5]\n",
      "Número de comparaciones realizadas: 10\n"
     ]
    }
   ],
   "source": [
    "def bubbleSort(array):\n",
    "      \n",
    "  n = len(array)\n",
    "  comparaciones = 0\n",
    "  for i in range(n):\n",
    "    swapped = False\n",
    "    for j in range(1, n - i):\n",
    "      comparaciones += 1\n",
    "      if array[j] < array[j - 1]:\n",
    "        array[j], array[j - 1] = array[j - 1], array[j]\n",
    "        swapped = True\n",
    "    if not swapped:\n",
    "      break\n",
    "  return array, comparaciones\n",
    "\n",
    "lista = [5, 4, 3, 2, 1]\n",
    "print(f\"Lista original: {lista}\")\n",
    "\n",
    "lista_ordenada, num_comparaciones = bubbleSort(lista)\n",
    "print(f\"Lista ordenada: {lista_ordenada}\")\n",
    "print(f\"Numero de comparaciones realizadas al realizar la serie: {num_comparaciones}\")"
   ]
  }
 ],
 "metadata": {
  "kernelspec": {
   "display_name": "base",
   "language": "python",
   "name": "python3"
  },
  "language_info": {
   "codemirror_mode": {
    "name": "ipython",
    "version": 3
   },
   "file_extension": ".py",
   "mimetype": "text/x-python",
   "name": "python",
   "nbconvert_exporter": "python",
   "pygments_lexer": "ipython3",
   "version": "3.12.7"
  }
 },
 "nbformat": 4,
 "nbformat_minor": 2
}
