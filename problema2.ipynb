{
 "cells": [
  {
   "cell_type": "markdown",
   "metadata": {},
   "source": [
    "## Taller 1 - Notebook2\n",
    "Marco Marcillo\n",
    "Mateo Molina"
   ]
  },
  {
   "cell_type": "code",
   "execution_count": 5,
   "metadata": {},
   "outputs": [
    {
     "name": "stdout",
     "output_type": "stream",
     "text": [
      "Lista original: [5, 1, 4, 2, 8, 11, 6]\n",
      "Lista ordenada: [1, 2, 4, 5, 6, 8, 11]\n"
     ]
    }
   ],
   "source": [
    "def bubble(array):\n",
    "\n",
    "  n = len(array)\n",
    "  for i in range(n):\n",
    "    swapped = False\n",
    "    for j in range(1, n - i):\n",
    "      if array[j] < array[j - 1]:\n",
    "        array[j], array[j - 1] = array[j - 1], array[j]\n",
    "        swapped = True\n",
    "    if not swapped:\n",
    "      break\n",
    "  return array\n",
    "\n",
    "lista = [5, 1, 4, 2, 8, 11, 6]\n",
    "print(f\"Lista original: {lista}\")\n",
    "\n",
    "lista_ordenada = bubble(lista)\n",
    "print(f\"Lista ordenada: {lista_ordenada}\")"
   ]
  }
 ],
 "metadata": {
  "kernelspec": {
   "display_name": "base",
   "language": "python",
   "name": "python3"
  },
  "language_info": {
   "codemirror_mode": {
    "name": "ipython",
    "version": 3
   },
   "file_extension": ".py",
   "mimetype": "text/x-python",
   "name": "python",
   "nbconvert_exporter": "python",
   "pygments_lexer": "ipython3",
   "version": "3.12.7"
  }
 },
 "nbformat": 4,
 "nbformat_minor": 2
}
