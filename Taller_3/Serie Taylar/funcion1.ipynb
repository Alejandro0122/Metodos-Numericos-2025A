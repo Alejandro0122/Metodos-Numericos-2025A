{
 "cells": [
  {
   "cell_type": "markdown",
   "id": "01a208ef",
   "metadata": {},
   "source": [
    "Taller 03: \n",
    "\n",
    "Series de Taylor y polinomios de Lagrange\n",
    "Grafique las curvas de las series de Taylor de varios órdenes para los siguientes casos:"
   ]
  },
  {
   "cell_type": "code",
   "execution_count": 1,
   "id": "377fe1b1",
   "metadata": {},
   "outputs": [
    {
     "ename": "ModuleNotFoundError",
     "evalue": "No module named 'numpy'",
     "output_type": "error",
     "traceback": [
      "\u001b[31m---------------------------------------------------------------------------\u001b[39m",
      "\u001b[31mModuleNotFoundError\u001b[39m                       Traceback (most recent call last)",
      "\u001b[36mCell\u001b[39m\u001b[36m \u001b[39m\u001b[32mIn[1]\u001b[39m\u001b[32m, line 1\u001b[39m\n\u001b[32m----> \u001b[39m\u001b[32m1\u001b[39m \u001b[38;5;28;01mimport\u001b[39;00m\u001b[38;5;250m \u001b[39m\u001b[34;01mnumpy\u001b[39;00m\u001b[38;5;250m \u001b[39m\u001b[38;5;28;01mas\u001b[39;00m\u001b[38;5;250m \u001b[39m\u001b[34;01mnp\u001b[39;00m\n\u001b[32m      2\u001b[39m \u001b[38;5;28;01mimport\u001b[39;00m\u001b[38;5;250m \u001b[39m\u001b[34;01mmatplotlib\u001b[39;00m\u001b[34;01m.\u001b[39;00m\u001b[34;01mpyplot\u001b[39;00m\u001b[38;5;250m \u001b[39m\u001b[38;5;28;01mas\u001b[39;00m\u001b[38;5;250m \u001b[39m\u001b[34;01mplt\u001b[39;00m\n\u001b[32m      4\u001b[39m \u001b[38;5;66;03m# Dominio de la función\u001b[39;00m\n",
      "\u001b[31mModuleNotFoundError\u001b[39m: No module named 'numpy'"
     ]
    }
   ],
   "source": [
    "import numpy as np\n",
    "import matplotlib.pyplot as plt\n",
    "\n",
    "# Dominio de la función\n",
    "x = np.linspace(-10, 10, 1000)\n",
    "\n",
    "# Función original\n",
    "f = np.cos(x)\n",
    "\n",
    "# Función para calcular la serie de Taylor de cos(x) hasta un orden dado\n",
    "def taylor_cos(x, order):\n",
    "    taylor = np.zeros_like(x)\n",
    "    for n in range(order // 2 + 1):\n",
    "        term = ((-1)**n * x**(2*n)) / np.math.factorial(2*n)\n",
    "        taylor += term\n",
    "    return taylor\n",
    "\n",
    "# Órdenes que se graficarán\n",
    "orders = [0, 2, 4, 6, 8, 10]\n",
    "\n",
    "# Graficar la función original\n",
    "plt.plot(x, f, label=\"cos(x)\", color='black', linewidth=2)\n",
    "\n",
    "# Graficar cada serie de Taylor\n",
    "for order in orders:\n",
    "    taylor_approx = taylor_cos(x, order)\n",
    "    plt.plot(x, taylor_approx, label=f\"Orden {order}\")\n",
    "\n",
    "# Personalización del gráfico\n",
    "plt.title(\"Series de Taylor de cos(x) en x₀ = 0\")\n",
    "plt.xlabel(\"x\")\n",
    "plt.ylabel(\"f(x)\")\n",
    "plt.axhline(0, color='gray', linestyle='--')\n",
    "plt.axvline(0, color='gray', linestyle='--')\n",
    "plt.legend()\n",
    "plt.grid(True)\n",
    "plt.show()\n"
   ]
  },
  {
   "cell_type": "code",
   "execution_count": null,
   "id": "9ca295e2",
   "metadata": {},
   "outputs": [],
   "source": []
  }
 ],
 "metadata": {
  "kernelspec": {
   "display_name": "Python 3",
   "language": "python",
   "name": "python3"
  },
  "language_info": {
   "codemirror_mode": {
    "name": "ipython",
    "version": 3
   },
   "file_extension": ".py",
   "mimetype": "text/x-python",
   "name": "python",
   "nbconvert_exporter": "python",
   "pygments_lexer": "ipython3",
   "version": "3.13.3"
  }
 },
 "nbformat": 4,
 "nbformat_minor": 5
}
