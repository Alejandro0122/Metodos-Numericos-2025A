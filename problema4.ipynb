{
 "cells": [
  {
   "cell_type": "markdown",
   "id": "a0888dc5",
   "metadata": {},
   "source": [
    "## Taller 1 - Notebook4\n",
    "\n",
    "- Marco Marcillo\n",
    "\n",
    "- Mateo Molina"
   ]
  },
  {
   "cell_type": "code",
   "execution_count": 21,
   "id": "6a8b86bf",
   "metadata": {},
   "outputs": [
    {
     "name": "stdout",
     "output_type": "stream",
     "text": [
      "y = 89\n"
     ]
    }
   ],
   "source": [
    "def iterative(n):\n",
    "    if n <= 0:\n",
    "        return 0\n",
    "    else:\n",
    "        x = 0\n",
    "        y = 1\n",
    "        for i in range(1, n):\n",
    "            z = x + y\n",
    "            x = y\n",
    "            y = z\n",
    "        return y\n",
    "\n",
    "n = 11\n",
    "resultado = iterative(n)\n",
    "print(\"y =\", resultado)\n"
   ]
  }
 ],
 "metadata": {
  "kernelspec": {
   "display_name": "Python 3",
   "language": "python",
   "name": "python3"
  },
  "language_info": {
   "codemirror_mode": {
    "name": "ipython",
    "version": 3
   },
   "file_extension": ".py",
   "mimetype": "text/x-python",
   "name": "python",
   "nbconvert_exporter": "python",
   "pygments_lexer": "ipython3",
   "version": "3.11.9"
  }
 },
 "nbformat": 4,
 "nbformat_minor": 5
}
