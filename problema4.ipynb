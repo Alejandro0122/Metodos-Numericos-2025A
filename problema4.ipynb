{
 "cells": [
  {
   "cell_type": "markdown",
   "id": "a0888dc5",
   "metadata": {},
   "source": [
    "## Taller 1 - Notebook4\n",
    "\n",
    "- Marco Marcillo\n",
    "\n",
    "- Mateo Molina"
   ]
  },
  {
   "cell_type": "code",
   "execution_count": 30,
   "id": "457c316f",
   "metadata": {},
   "outputs": [
    {
     "name": "stdout",
     "output_type": "stream",
     "text": [
      "n = 10000000 es igual a:  16.69531126585727\n"
     ]
    }
   ],
   "source": [
    "def sumatoria(n):\n",
    "    y = sum(1/i for i in range(1, n))\n",
    "    return y\n",
    "\n",
    "n = 10000000\n",
    "resultado = sumatoria(n)\n",
    "print(\"n =\",n, \"es igual a: \",resultado)"
   ]
  }
 ],
 "metadata": {
  "kernelspec": {
   "display_name": "Python 3",
   "language": "python",
   "name": "python3"
  },
  "language_info": {
   "codemirror_mode": {
    "name": "ipython",
    "version": 3
   },
   "file_extension": ".py",
   "mimetype": "text/x-python",
   "name": "python",
   "nbconvert_exporter": "python",
   "pygments_lexer": "ipython3",
   "version": "3.11.9"
  }
 },
 "nbformat": 4,
 "nbformat_minor": 5
}
